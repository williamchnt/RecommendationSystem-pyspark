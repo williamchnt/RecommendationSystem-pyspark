{
 "cells": [
  {
   "cell_type": "code",
   "execution_count": 1,
   "metadata": {},
   "outputs": [],
   "source": [
    "import findspark\n",
    "findspark.init()\n",
    "from pyspark.sql import SparkSession\n",
    "spark = SparkSession.builder.master(\"local[*]\").getOrCreate()"
   ]
  },
  {
   "cell_type": "code",
   "execution_count": 2,
   "metadata": {},
   "outputs": [],
   "source": [
    "import pandas as pd"
   ]
  },
  {
   "cell_type": "code",
   "execution_count": 3,
   "metadata": {},
   "outputs": [],
   "source": [
    "creditsUrl = \"https://chenutfamily.freeboxos.fr:45883/share/z5zYVK5G0HSU5Elt/credits.csv\"\n",
    "keywordsUrl = \"https://chenutfamily.freeboxos.fr:45883/share/w7VuOdc5yL7_OooW/keywords.csv\" \n",
    "linksUrl = \"https://chenutfamily.freeboxos.fr:45883/share/Gmz7QCOWH6H0GqsX/links.csv\"\n",
    "linksSmallUrl = \"https://chenutfamily.freeboxos.fr:45883/share/63uzaFuqxgU0758p/links_small.csv\"\n",
    "moviesMetadataUrl = \"https://chenutfamily.freeboxos.fr:45883/share/vA7JOk9UHZRZxIwK/movies_metadata.csv\"\n",
    "ratingsUrl = \"https://chenutfamily.freeboxos.fr:45883/share/Q6XXQ-ScvAXlsjeY/ratings.csv\"\n",
    "ratingsSmallUrl = \"https://chenutfamily.freeboxos.fr:45883/share/ZZxgfteOX4i2C0Q4/ratings_small.csv\""
   ]
  },
  {
   "cell_type": "code",
   "execution_count": 4,
   "metadata": {},
   "outputs": [],
   "source": [
    "metaDataPandas = pd.read_csv(moviesMetadataUrl,na_filter=False)"
   ]
  },
  {
   "cell_type": "code",
   "execution_count": 5,
   "metadata": {},
   "outputs": [],
   "source": [
    "credits = spark.createDataFrame(pd.read_csv(creditsUrl))\n",
    "keywords = spark.createDataFrame(pd.read_csv(keywordsUrl))\n",
    "links = spark.createDataFrame(pd.read_csv(linksUrl))\n",
    "linksSmall = spark.createDataFrame(pd.read_csv(linksSmallUrl))\n",
    "moviesMetadata = spark.createDataFrame(metaDataPandas)\n",
    "# ratings = spark.createDataFrame(pd.read_csv(ratingsUrl))\n",
    "ratingsSmall = spark.createDataFrame(pd.read_csv(ratingsSmallUrl))"
   ]
  },
  {
   "cell_type": "code",
   "execution_count": 6,
   "metadata": {},
   "outputs": [
    {
     "name": "stdout",
     "output_type": "stream",
     "text": [
      "+--------------------+--------------------+-----+\n",
      "|                cast|                crew|   id|\n",
      "+--------------------+--------------------+-----+\n",
      "|[{'cast_id': 14, ...|[{'credit_id': '5...|  862|\n",
      "|[{'cast_id': 1, '...|[{'credit_id': '5...| 8844|\n",
      "|[{'cast_id': 2, '...|[{'credit_id': '5...|15602|\n",
      "|[{'cast_id': 1, '...|[{'credit_id': '5...|31357|\n",
      "|[{'cast_id': 1, '...|[{'credit_id': '5...|11862|\n",
      "+--------------------+--------------------+-----+\n",
      "only showing top 5 rows\n",
      "\n"
     ]
    }
   ],
   "source": [
    "credits.show(5)"
   ]
  },
  {
   "cell_type": "markdown",
   "metadata": {},
   "source": [
    "# Dataset Exploration"
   ]
  },
  {
   "cell_type": "code",
   "execution_count": 8,
   "metadata": {},
   "outputs": [
    {
     "name": "stdout",
     "output_type": "stream",
     "text": [
      "credits has 45476 rows.\n",
      "keywords has 46419 rows.\n",
      "links has 45843 rows.\n",
      "linksSmall has 9125 rows.\n",
      "moviesMetadata has 45466 rows.\n",
      "ratingsSmall has 100004 rows.\n"
     ]
    }
   ],
   "source": [
    "# Show the number of rows in the DataFrame\n",
    "print(\"credits has {} rows.\".format(credits.count()))\n",
    "print(\"keywords has {} rows.\".format(keywords.count()))\n",
    "print(\"links has {} rows.\".format(links.count()))\n",
    "print(\"linksSmall has {} rows.\".format(linksSmall.count()))\n",
    "print(\"moviesMetadata has {} rows.\".format(moviesMetadata.count()))\n",
    "print(\"ratingsSmall has {} rows.\".format(ratingsSmall.count()))\n"
   ]
  }
 ],
 "metadata": {
  "kernelspec": {
   "display_name": "Python 3.9.12 ('base')",
   "language": "python",
   "name": "python3"
  },
  "language_info": {
   "codemirror_mode": {
    "name": "ipython",
    "version": 3
   },
   "file_extension": ".py",
   "mimetype": "text/x-python",
   "name": "python",
   "nbconvert_exporter": "python",
   "pygments_lexer": "ipython3",
   "version": "3.9.12"
  },
  "orig_nbformat": 4,
  "vscode": {
   "interpreter": {
    "hash": "5c6a328c3dae7a0c12012862982ee9605db1881d32a9f60b075ff1e1dc4cc909"
   }
  }
 },
 "nbformat": 4,
 "nbformat_minor": 2
}
